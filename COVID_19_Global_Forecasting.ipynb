{
  "nbformat": 4,
  "nbformat_minor": 0,
  "metadata": {
    "colab": {
      "name": "COVID-19_Global_Forecasting.ipynb",
      "provenance": [],
      "collapsed_sections": [],
      "authorship_tag": "ABX9TyMXEYTBZBApRsVvTL4RJ8ez",
      "include_colab_link": true
    },
    "kernelspec": {
      "name": "python3",
      "display_name": "Python 3"
    }
  },
  "cells": [
    {
      "cell_type": "markdown",
      "metadata": {
        "id": "view-in-github",
        "colab_type": "text"
      },
      "source": [
        "<a href=\"https://colab.research.google.com/github/cHackogp/COVID-19/blob/master/COVID_19_Global_Forecasting.ipynb\" target=\"_parent\"><img src=\"https://colab.research.google.com/assets/colab-badge.svg\" alt=\"Open In Colab\"/></a>"
      ]
    },
    {
      "cell_type": "code",
      "metadata": {
        "id": "T-F2X8qgbVmk",
        "colab_type": "code",
        "colab": {}
      },
      "source": [
        "import pandas as pd\n",
        "import numpy as np\n",
        "from scipy import  stats\n",
        "from sklearn.metrics import mean_squared_error\n",
        "from sklearn.model_selection import train_test_split\n",
        "from sklearn.metrics import mean_squared_log_error"
      ],
      "execution_count": 0,
      "outputs": []
    },
    {
      "cell_type": "code",
      "metadata": {
        "id": "RVRvHQ0LlT-F",
        "colab_type": "code",
        "colab": {}
      },
      "source": [
        "submissions = pd.read_csv(\"/content/drive/My Drive/Projects/COVID-19/submission.csv\")\n",
        "final_test_data = pd.read_csv(\"/content/drive/My Drive/Projects/COVID-19/test.csv\")\n",
        "train_data = pd.read_csv(\"/content/drive/My Drive/Projects/COVID-19/train.csv\")"
      ],
      "execution_count": 0,
      "outputs": []
    },
    {
      "cell_type": "code",
      "metadata": {
        "id": "mRsvHB1WmLtS",
        "colab_type": "code",
        "colab": {
          "base_uri": "https://localhost:8080/",
          "height": 188
        },
        "outputId": "9986393d-2001-4633-a4f7-a8443068f533"
      },
      "source": [
        "submissions.info()"
      ],
      "execution_count": 168,
      "outputs": [
        {
          "output_type": "stream",
          "text": [
            "<class 'pandas.core.frame.DataFrame'>\n",
            "RangeIndex: 13158 entries, 0 to 13157\n",
            "Data columns (total 3 columns):\n",
            " #   Column          Non-Null Count  Dtype\n",
            "---  ------          --------------  -----\n",
            " 0   ForecastId      13158 non-null  int64\n",
            " 1   ConfirmedCases  13158 non-null  int64\n",
            " 2   Fatalities      13158 non-null  int64\n",
            "dtypes: int64(3)\n",
            "memory usage: 308.5 KB\n"
          ],
          "name": "stdout"
        }
      ]
    },
    {
      "cell_type": "code",
      "metadata": {
        "id": "23k5PP8-j1SA",
        "colab_type": "code",
        "colab": {}
      },
      "source": [
        "def basicDetails(csv_file):\n",
        "  print(\"\\nBasic Info:\\n\")\n",
        "  print(csv_file.info())\n",
        "  print(\"\\nDescription:\\n\",csv_file.describe())\n",
        "  print(\"\\nShape: \",csv_file.shape)\n",
        "  print(\"\\nFirst 10 elemtns:\\n\",csv_file.head(10))"
      ],
      "execution_count": 0,
      "outputs": []
    },
    {
      "cell_type": "code",
      "metadata": {
        "id": "vtjBSPX1kbyn",
        "colab_type": "code",
        "colab": {
          "base_uri": "https://localhost:8080/",
          "height": 754
        },
        "outputId": "a0f5d762-4df0-4e27-fae1-c86e35b84f21"
      },
      "source": [
        "print(\"\\nsubmission.csv file details:\\n\")\n",
        "basicDetails(submissions)"
      ],
      "execution_count": 172,
      "outputs": [
        {
          "output_type": "stream",
          "text": [
            "\n",
            "submission.csv file details:\n",
            "\n",
            "\n",
            "Basic Info:\n",
            "\n",
            "<class 'pandas.core.frame.DataFrame'>\n",
            "RangeIndex: 13158 entries, 0 to 13157\n",
            "Data columns (total 3 columns):\n",
            " #   Column          Non-Null Count  Dtype\n",
            "---  ------          --------------  -----\n",
            " 0   ForecastId      13158 non-null  int64\n",
            " 1   ConfirmedCases  13158 non-null  int64\n",
            " 2   Fatalities      13158 non-null  int64\n",
            "dtypes: int64(3)\n",
            "memory usage: 308.5 KB\n",
            "None\n",
            "\n",
            "Description:\n",
            "          ForecastId  ConfirmedCases  Fatalities\n",
            "count  13158.000000         13158.0     13158.0\n",
            "mean    6579.500000             1.0         1.0\n",
            "std     3798.531756             0.0         0.0\n",
            "min        1.000000             1.0         1.0\n",
            "25%     3290.250000             1.0         1.0\n",
            "50%     6579.500000             1.0         1.0\n",
            "75%     9868.750000             1.0         1.0\n",
            "max    13158.000000             1.0         1.0\n",
            "\n",
            "Shape:  (13158, 3)\n",
            "\n",
            "First 10 elemtns:\n",
            "    ForecastId  ConfirmedCases  Fatalities\n",
            "0           1               1           1\n",
            "1           2               1           1\n",
            "2           3               1           1\n",
            "3           4               1           1\n",
            "4           5               1           1\n",
            "5           6               1           1\n",
            "6           7               1           1\n",
            "7           8               1           1\n",
            "8           9               1           1\n",
            "9          10               1           1\n"
          ],
          "name": "stdout"
        }
      ]
    },
    {
      "cell_type": "code",
      "metadata": {
        "id": "gkHE20O1nka1",
        "colab_type": "code",
        "colab": {
          "base_uri": "https://localhost:8080/",
          "height": 771
        },
        "outputId": "5537cd55-3bfd-4e49-df3d-3d9ae03d5fb9"
      },
      "source": [
        "print(\"\\nfinal_test_data.csv file details:\\n\")\n",
        "basicDetails(final_test_data)"
      ],
      "execution_count": 174,
      "outputs": [
        {
          "output_type": "stream",
          "text": [
            "\n",
            "final_test_data.csv file details:\n",
            "\n",
            "\n",
            "Basic Info:\n",
            "\n",
            "<class 'pandas.core.frame.DataFrame'>\n",
            "RangeIndex: 13158 entries, 0 to 13157\n",
            "Data columns (total 4 columns):\n",
            " #   Column          Non-Null Count  Dtype \n",
            "---  ------          --------------  ----- \n",
            " 0   ForecastId      13158 non-null  int64 \n",
            " 1   Province_State  5590 non-null   object\n",
            " 2   Country_Region  13158 non-null  object\n",
            " 3   Date            13158 non-null  object\n",
            "dtypes: int64(1), object(3)\n",
            "memory usage: 411.3+ KB\n",
            "None\n",
            "\n",
            "Description:\n",
            "          ForecastId\n",
            "count  13158.000000\n",
            "mean    6579.500000\n",
            "std     3798.531756\n",
            "min        1.000000\n",
            "25%     3290.250000\n",
            "50%     6579.500000\n",
            "75%     9868.750000\n",
            "max    13158.000000\n",
            "\n",
            "Shape:  (13158, 4)\n",
            "\n",
            "First 10 elemtns:\n",
            "    ForecastId Province_State Country_Region        Date\n",
            "0           1            NaN    Afghanistan  2020-03-26\n",
            "1           2            NaN    Afghanistan  2020-03-27\n",
            "2           3            NaN    Afghanistan  2020-03-28\n",
            "3           4            NaN    Afghanistan  2020-03-29\n",
            "4           5            NaN    Afghanistan  2020-03-30\n",
            "5           6            NaN    Afghanistan  2020-03-31\n",
            "6           7            NaN    Afghanistan  2020-04-01\n",
            "7           8            NaN    Afghanistan  2020-04-02\n",
            "8           9            NaN    Afghanistan  2020-04-03\n",
            "9          10            NaN    Afghanistan  2020-04-04\n"
          ],
          "name": "stdout"
        }
      ]
    },
    {
      "cell_type": "code",
      "metadata": {
        "id": "NmemFkwqnwN8",
        "colab_type": "code",
        "colab": {
          "base_uri": "https://localhost:8080/",
          "height": 806
        },
        "outputId": "db04d056-8578-4429-988c-f69a715efa0e"
      },
      "source": [
        "print(\"\\ntraining_data.csv file details:\\n\")\n",
        "basicDetails(train_data)"
      ],
      "execution_count": 175,
      "outputs": [
        {
          "output_type": "stream",
          "text": [
            "\n",
            "training_data.csv file details:\n",
            "\n",
            "\n",
            "Basic Info:\n",
            "\n",
            "<class 'pandas.core.frame.DataFrame'>\n",
            "RangeIndex: 22338 entries, 0 to 22337\n",
            "Data columns (total 6 columns):\n",
            " #   Column          Non-Null Count  Dtype  \n",
            "---  ------          --------------  -----  \n",
            " 0   Id              22338 non-null  int64  \n",
            " 1   Province_State  9490 non-null   object \n",
            " 2   Country_Region  22338 non-null  object \n",
            " 3   Date            22338 non-null  object \n",
            " 4   ConfirmedCases  22338 non-null  float64\n",
            " 5   Fatalities      22338 non-null  float64\n",
            "dtypes: float64(2), int64(1), object(3)\n",
            "memory usage: 1.0+ MB\n",
            "None\n",
            "\n",
            "Description:\n",
            "                  Id  ConfirmedCases    Fatalities\n",
            "count  22338.000000    22338.000000  22338.000000\n",
            "mean   16354.500000      610.647372     26.520906\n",
            "std     9451.985843     5150.283215    354.743581\n",
            "min        1.000000        0.000000      0.000000\n",
            "25%     8169.250000        0.000000      0.000000\n",
            "50%    16354.500000        0.000000      0.000000\n",
            "75%    24539.750000       45.000000      0.000000\n",
            "max    32708.000000   119827.000000  14681.000000\n",
            "\n",
            "Shape:  (22338, 6)\n",
            "\n",
            "First 10 elemtns:\n",
            "    Id Province_State Country_Region        Date  ConfirmedCases  Fatalities\n",
            "0   1            NaN    Afghanistan  2020-01-22             0.0         0.0\n",
            "1   2            NaN    Afghanistan  2020-01-23             0.0         0.0\n",
            "2   3            NaN    Afghanistan  2020-01-24             0.0         0.0\n",
            "3   4            NaN    Afghanistan  2020-01-25             0.0         0.0\n",
            "4   5            NaN    Afghanistan  2020-01-26             0.0         0.0\n",
            "5   6            NaN    Afghanistan  2020-01-27             0.0         0.0\n",
            "6   7            NaN    Afghanistan  2020-01-28             0.0         0.0\n",
            "7   8            NaN    Afghanistan  2020-01-29             0.0         0.0\n",
            "8   9            NaN    Afghanistan  2020-01-30             0.0         0.0\n",
            "9  10            NaN    Afghanistan  2020-01-31             0.0         0.0\n"
          ],
          "name": "stdout"
        }
      ]
    },
    {
      "cell_type": "code",
      "metadata": {
        "id": "g9VfS33lCCuE",
        "colab_type": "code",
        "colab": {
          "base_uri": "https://localhost:8080/",
          "height": 103
        },
        "outputId": "efbe5470-8acd-4e2f-c00d-62c7daccc9aa"
      },
      "source": [
        "# splitting the dataset into training and testing data\n",
        "training_data, testing_data = train_test_split(train_data, test_size=0.33, random_state=3333)\n",
        "\n",
        "# shape of the dataset\n",
        "print('\\nShape of training data :',training_data.shape)\n",
        "print('\\nShape of testing data :',testing_data.shape,\"\\n\")"
      ],
      "execution_count": 128,
      "outputs": [
        {
          "output_type": "stream",
          "text": [
            "\n",
            "Shape of training data : (14966, 6)\n",
            "\n",
            "Shape of testing data : (7372, 6) \n",
            "\n"
          ],
          "name": "stdout"
        }
      ]
    },
    {
      "cell_type": "code",
      "metadata": {
        "id": "MdrqOMpB-5yy",
        "colab_type": "code",
        "colab": {
          "base_uri": "https://localhost:8080/",
          "height": 360
        },
        "outputId": "49a9fd18-fd5f-415e-d5b9-a15d0f136cc0"
      },
      "source": [
        "# Predicting using Mean\n",
        "\n",
        "def predictionMean(target_variable): # Function that predicts the missing target variable in the test data using mean\n",
        "    print(\"\\nTarget variable: \",target_variable)\n",
        "    # Target variable ; Test with - ConfirmedCases, Fatalities\n",
        "    train_y = training_data[target_variable]\n",
        "    test_y = testing_data[target_variable]\n",
        "\n",
        "    print(\"\\nMean of Target Variable : \", train_y.mean())\n",
        "\n",
        "    # predict the target on the test dataset\n",
        "    predict_train = [train_y.mean() for i in range(train_y.shape[0])]\n",
        "\n",
        "    # Root Mean Squared Error on training dataset\n",
        "    rmse_train = mean_squared_error(train_y,predict_train)**(0.5)\n",
        "    print('\\nRMSE on train dataset : ', rmse_train)\n",
        "\n",
        "    # predict the target on the testing dataset\n",
        "    predict_test = [train_y.mean() for i in range(test_y.shape[0])]\n",
        "\n",
        "    # Root Mean Squared Error on testing dataset\n",
        "    rmse_test = mean_squared_error(test_y,predict_test)**(0.5)\n",
        "    print('\\nRMSE on test dataset : ', rmse_test)\n",
        "\n",
        "    # Root Mean Squared Logarithmic Error\n",
        "    rmsle = np.sqrt(mean_squared_log_error( test_y, predict_test))\n",
        "    print(\"\\nRMSLE on test dataset :\", rmsle)\n",
        "\n",
        "predictionMean(\"ConfirmedCases\")\n",
        "predictionMean(\"Fatalities\")"
      ],
      "execution_count": 129,
      "outputs": [
        {
          "output_type": "stream",
          "text": [
            "\n",
            "Target variable:  ConfirmedCases\n",
            "\n",
            "Mean of Target Variable :  626.1108512628625\n",
            "\n",
            "RMSE on train dataset :  5265.067679386641\n",
            "\n",
            "RMSE on test dataset :  4908.716821869475\n",
            "\n",
            "RMSLE on test dataset : 5.210589677201517\n",
            "\n",
            "Target variable:  Fatalities\n",
            "\n",
            "Mean of Target Variable :  27.23800614726714\n",
            "\n",
            "RMSE on train dataset :  367.34776649152485\n",
            "\n",
            "RMSE on test dataset :  327.64412141605027\n",
            "\n",
            "RMSLE on test dataset : 3.105327838099476\n"
          ],
          "name": "stdout"
        }
      ]
    },
    {
      "cell_type": "code",
      "metadata": {
        "id": "35kZ4Un8aPX_",
        "colab_type": "code",
        "colab": {}
      },
      "source": [
        "# Predicting using average cases and fatalities by Location\n"
      ],
      "execution_count": 0,
      "outputs": []
    }
  ]
}